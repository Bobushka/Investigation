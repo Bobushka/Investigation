{
 "cells": [
  {
   "cell_type": "markdown",
   "metadata": {},
   "source": [
    "# Сalculating the pi number using the Leibniz algorithm"
   ]
  },
  {
   "cell_type": "markdown",
   "metadata": {},
   "source": [
    "### Pi = 4 - 4/3 + 4/5 - 4/7 + 4/9 - ...\n",
    "\n",
    "1) What is interesting about this algorithm: the number of zeros after one in the number n (where n is a number of iterations) determines the number of correctly counted significant digits in Pi. Ex, entered n = 1,000,000 (six zeros) - we got the accuracy 3.14159ХХХХХХХХ (six significant numbers)\n",
    "\n",
    "2) The calculation speed is approximately as follows: 10,000 iterations in 1 second (for a MacBookAir 2011 machine with a processor load of about 80%)"
   ]
  },
  {
   "cell_type": "code",
   "execution_count": 26,
   "metadata": {},
   "outputs": [
    {
     "name": "stdout",
     "output_type": "stream",
     "text": [
      "Enter the iterations number = 1000000\n",
      "i = 1000000, calculated Pi = 3.1415936535887745\n",
      "error = 9.999989813991306e-07\n",
      "script working time = 71.12206220626831 seconds\n"
     ]
    }
   ],
   "source": [
    "import time\n",
    "import math\n",
    "\n",
    "n = int(input(\"Enter the iterations number = \"))\n",
    "time_start = time.time()\n",
    "Pi = 4\n",
    "sign = 1\n",
    "\n",
    "if isinstance(n, int):  # if n is not integer print error message\n",
    "    if n == 0:\n",
    "        print(Pi)\n",
    "    else:\n",
    "        for i in range(n):\n",
    "            denominator = (i+2)*2 - 1\n",
    "            sign = sign * (-1)\n",
    "            Pi = Pi + sign*4/denominator\n",
    "            print(f'i = {i+1}, calculated Pi = {Pi}', end=\"\\r\")      \n",
    "    \n",
    "print()\n",
    "print(f'real Pi = {math.pi}')\n",
    "print(f'error = {abs(Pi - math.pi)}')\n",
    "\n",
    "time_close = time.time()\n",
    "time_spent = time_close - time_start\n",
    "print(f'script working time = {time_spent} seconds')"
   ]
  },
  {
   "cell_type": "code",
   "execution_count": null,
   "metadata": {},
   "outputs": [],
   "source": [
    "# Enter the iterations number...  10000\n",
    "# 3.1416926435905346"
   ]
  }
 ],
 "metadata": {
  "kernelspec": {
   "display_name": "Python 3",
   "language": "python",
   "name": "python3"
  },
  "language_info": {
   "codemirror_mode": {
    "name": "ipython",
    "version": 3
   },
   "file_extension": ".py",
   "mimetype": "text/x-python",
   "name": "python",
   "nbconvert_exporter": "python",
   "pygments_lexer": "ipython3",
   "version": "3.8.8"
  }
 },
 "nbformat": 4,
 "nbformat_minor": 4
}
