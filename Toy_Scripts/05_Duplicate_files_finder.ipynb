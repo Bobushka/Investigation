{
 "cells": [
  {
   "cell_type": "code",
   "execution_count": 24,
   "id": "4450310a",
   "metadata": {
    "scrolled": false
   },
   "outputs": [
    {
     "name": "stdout",
     "output_type": "stream",
     "text": [
      "Enter folder name:\n",
      "/Volumes/WD 4Tb/Music\n",
      "\n",
      "Running tree generator...\n",
      "Creating files dataframe...\n",
      "Creating duplicates list...                                                   \n",
      "Duplicates list saved in Output.csv\n"
     ]
    }
   ],
   "source": [
    "import os\n",
    "from pathlib import Path\n",
    "import pandas as pd\n",
    "\n",
    "folder = input(\"Enter folder name:\\n\")\n",
    "\n",
    "# get the tree-generator\n",
    "tree = []\n",
    "print(\"\\nRunning tree generator...\")\n",
    "for i in os.walk(folder):\n",
    "    tree.append(i)\n",
    "\n",
    "# create dataframe with all parent folder files\n",
    "df = pd.DataFrame(columns = [\"path\", \"file\", \"size\"])\n",
    "print(\"Creating files dataframe...\")\n",
    "for i in tree:\n",
    "    for f in i[2]:\n",
    "        if not f.startswith(\".\"):\n",
    "            f_path = os.path.join(i[0], f)\n",
    "            f_size = Path(f_path).stat().st_size\n",
    "            df = df.append({\"path\": i[0], \"file\": f, \"size\": f_size}, ignore_index=True)\n",
    "            \n",
    "# create duplicates list\n",
    "counts = df[\"file\"].value_counts()\n",
    "duplicates = []\n",
    "print(\"Creating duplicates list...\", \" \"*50)\n",
    "for i in range(len(counts)):\n",
    "    if counts[i] > 1:\n",
    "        duplicates.append(counts.index[i])\n",
    "        \n",
    "# create frame of all repeated files\n",
    "for i in range(df.shape[0]):\n",
    "    if df['file'][i] not in duplicates:\n",
    "        df.drop([i], inplace=True)\n",
    "        \n",
    "df = df.sort_values(by='file')\n",
    "df.to_csv(\"output.csv\") \n",
    "print(\"Duplicates list saved in Output.csv\")"
   ]
  },
  {
   "cell_type": "code",
   "execution_count": 1,
   "id": "a433066b",
   "metadata": {},
   "outputs": [
    {
     "name": "stderr",
     "output_type": "stream",
     "text": [
      "100%|██████████| 8/8 [00:08<00:00,  1.01s/it]\n"
     ]
    }
   ],
   "source": [
    "import time\n",
    "from tqdm import tqdm\n",
    "\n",
    "mylist = [1,2,3,4,5,6,7,8]\n",
    "\n",
    "for i in tqdm(mylist):\n",
    "    time.sleep(1)"
   ]
  },
  {
   "cell_type": "code",
   "execution_count": null,
   "id": "a273c8ba",
   "metadata": {},
   "outputs": [],
   "source": []
  },
  {
   "cell_type": "code",
   "execution_count": 3,
   "id": "28605c1d",
   "metadata": {
    "scrolled": false
   },
   "outputs": [
    {
     "name": "stdout",
     "output_type": "stream",
     "text": [
      "Enter folder name:\n",
      "/Volumes/WD 4Tb/iTunes/Music\n"
     ]
    },
    {
     "name": "stderr",
     "output_type": "stream",
     "text": [
      "5it [00:00, 48.01it/s]"
     ]
    },
    {
     "name": "stdout",
     "output_type": "stream",
     "text": [
      "\n",
      "Running tree generator...\n"
     ]
    },
    {
     "name": "stderr",
     "output_type": "stream",
     "text": [
      "11120it [00:15, 738.07it/s] \n"
     ]
    },
    {
     "data": {
      "text/plain": [
       "'# create dataframe with all parent folder files\\ndf = pd.DataFrame(columns = [\"path\", \"file\", \"size\"])\\nprint(\"Creating files dataframe...\")\\nfor i in tree:\\n    for f in i[2]:\\n        if not f.startswith(\".\"):\\n            f_path = os.path.join(i[0], f)\\n            f_size = Path(f_path).stat().st_size\\n            df = df.append({\"path\": i[0], \"file\": f, \"size\": f_size}, ignore_index=True)\\n            \\n# create duplicates list\\ncounts = df[\"file\"].value_counts()\\nduplicates = []\\nprint(\"Creating duplicates list...\", \" \"*50)\\nfor i in range(len(counts)):\\n    if counts[i] > 1:\\n        duplicates.append(counts.index[i])\\n        \\n# create frame of all repeated files\\nfor i in range(df.shape[0]):\\n    if df[\\'file\\'][i] not in duplicates:\\n        df.drop([i], inplace=True)\\n        \\ndf = df.sort_values(by=\\'file\\')\\ndf.to_csv(\"output.csv\") \\nprint(\"Duplicates list saved in Output.csv\")'"
      ]
     },
     "execution_count": 3,
     "metadata": {},
     "output_type": "execute_result"
    }
   ],
   "source": [
    "import os\n",
    "from pathlib import Path\n",
    "import pandas as pd\n",
    "from tqdm import tqdm\n",
    "\n",
    "folder = input(\"Enter folder name:\\n\")\n",
    "\n",
    "# get the tree-generator\n",
    "tree = []\n",
    "print(\"\\nRunning tree generator...\")\n",
    "for i in tqdm(os.walk(folder)):\n",
    "    tree.append(i)\n",
    "\n",
    "\"\"\"# create dataframe with all parent folder files\n",
    "df = pd.DataFrame(columns = [\"path\", \"file\", \"size\"])\n",
    "print(\"Creating files dataframe...\")\n",
    "for i in tree:\n",
    "    for f in i[2]:\n",
    "        if not f.startswith(\".\"):\n",
    "            f_path = os.path.join(i[0], f)\n",
    "            f_size = Path(f_path).stat().st_size\n",
    "            df = df.append({\"path\": i[0], \"file\": f, \"size\": f_size}, ignore_index=True)\n",
    "            \n",
    "# create duplicates list\n",
    "counts = df[\"file\"].value_counts()\n",
    "duplicates = []\n",
    "print(\"Creating duplicates list...\", \" \"*50)\n",
    "for i in range(len(counts)):\n",
    "    if counts[i] > 1:\n",
    "        duplicates.append(counts.index[i])\n",
    "        \n",
    "# create frame of all repeated files\n",
    "for i in range(df.shape[0]):\n",
    "    if df['file'][i] not in duplicates:\n",
    "        df.drop([i], inplace=True)\n",
    "        \n",
    "df = df.sort_values(by='file')\n",
    "df.to_csv(\"output.csv\") \n",
    "print(\"Duplicates list saved in Output.csv\")\"\"\""
   ]
  },
  {
   "cell_type": "code",
   "execution_count": null,
   "id": "da8588ea",
   "metadata": {},
   "outputs": [],
   "source": []
  }
 ],
 "metadata": {
  "kernelspec": {
   "display_name": "Python 3.8 (tfm1)",
   "language": "python",
   "name": "tfm1"
  },
  "language_info": {
   "codemirror_mode": {
    "name": "ipython",
    "version": 3
   },
   "file_extension": ".py",
   "mimetype": "text/x-python",
   "name": "python",
   "nbconvert_exporter": "python",
   "pygments_lexer": "ipython3",
   "version": "3.8.8"
  }
 },
 "nbformat": 4,
 "nbformat_minor": 5
}
