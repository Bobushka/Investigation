{
 "cells": [
  {
   "cell_type": "markdown",
   "id": "proud-carnival",
   "metadata": {},
   "source": [
    "# Fractals\n",
    "https://www.youtube.com/playlist?list=PLA0M1Bcd0w8ylFC3tve_AVXEttPBmKDqw"
   ]
  },
  {
   "cell_type": "code",
   "execution_count": 1,
   "id": "unlimited-samba",
   "metadata": {
    "scrolled": true
   },
   "outputs": [],
   "source": [
    "import pandas as pd\n",
    "import numpy as np\n",
    "from tqdm import tqdm\n",
    "# import time\n",
    "# import sys\n",
    "# import beep"
   ]
  },
  {
   "cell_type": "markdown",
   "id": "handy-lunch",
   "metadata": {},
   "source": [
    "## 1. Random investigation"
   ]
  },
  {
   "cell_type": "markdown",
   "id": "sexual-gates",
   "metadata": {},
   "source": [
    "Предположим, что генератор случайных чисел выдает последовательность нулей и единиц. Каждое добавление нуля или единицы к этой последовательности назовем шагом. Через сколько шагов генератор выдаст последовательность из 10 нулей подряд? Назовем это количество шагов \"count\". Как выглядит распределение этой величины?"
   ]
  },
  {
   "cell_type": "code",
   "execution_count": 2,
   "id": "respective-electric",
   "metadata": {},
   "outputs": [],
   "source": [
    "import random\n",
    "import seaborn as sns\n",
    "import matplotlib.pyplot as plt"
   ]
  },
  {
   "cell_type": "code",
   "execution_count": 3,
   "id": "amateur-intake",
   "metadata": {},
   "outputs": [],
   "source": [
    "def count():\n",
    "    \"\"\"\n",
    "    Функция выполняет одно наблюдение величины count, а именно:\n",
    "    к строке s добавляется случайно сгенерированные 0 либо 1 до тех пор, \n",
    "    пока в строке на обнаружится sample, состоящий из zeroes нулей подряд.\n",
    "    Функция возвращает число шагов, которые понадобились для этого,\n",
    "    уменьшенное на длину образца sample.\n",
    "    \"\"\"\n",
    "    s = \"\"\n",
    "    flag = True\n",
    "\n",
    "    while flag:\n",
    "        s = s + str(random.randint(0,1))\n",
    "        if sample in s:\n",
    "            flag = False\n",
    "            count = len(s)\n",
    "\n",
    "    return (count - zeroes)"
   ]
  },
  {
   "cell_type": "code",
   "execution_count": 7,
   "id": "rising-congress",
   "metadata": {},
   "outputs": [
    {
     "name": "stderr",
     "output_type": "stream",
     "text": [
      "100%|██████████| 100000/100000 [14:33<00:00, 114.52it/s]\n"
     ]
    },
    {
     "name": "stdout",
     "output_type": "stream",
     "text": [
      "минимальное значение =  0\n",
      "среднее значение =  2041.39275\n",
      "медиана =  1416.0\n"
     ]
    },
    {
     "data": {
      "image/png": "[encoded data removed]",
      "text/plain": [
       "<Figure size 432x288 with 1 Axes>"
      ]
     },
     "metadata": {
      "needs_background": "light"
     },
     "output_type": "display_data"
    }
   ],
   "source": [
    "zeroes, attempts = 10, 100000\n",
    "# zeroes - количество нулой подряд, которое мы хотим обнаружить\n",
    "# attempts - количество измерений, которые мы сделаем чтобы набрать статистику\n",
    "sample = \"0\"*zeroes\n",
    "results = []\n",
    "# results - список значений count, которые мы получили в каждом из attempts наблюдений\n",
    "[results.append(count()) for i in tqdm(range(attempts))]\n",
    "\n",
    "# исследуем распределение величины count\n",
    "# https://pyprog.pro/statistics_functions/statistics_function.html\n",
    "print(\"минимальное значение = \", np.amin(results))\n",
    "print(\"среднее значение = \", np.mean(results))\n",
    "print(\"медиана = \", np.median(results))\n",
    "\n",
    "# построим гистограмму\n",
    "sns_plot = sns.histplot(results)\n",
    "fig = sns_plot.get_figure()"
   ]
  },
  {
   "cell_type": "code",
   "execution_count": null,
   "id": "increasing-cream",
   "metadata": {},
   "outputs": [],
   "source": []
  }
 ],
 "metadata": {
  "kernelspec": {
   "display_name": "Python 3",
   "language": "python",
   "name": "python3"
  },
  "language_info": {
   "codemirror_mode": {
    "name": "ipython",
    "version": 3
   },
   "file_extension": ".py",
   "mimetype": "text/x-python",
   "name": "python",
   "nbconvert_exporter": "python",
   "pygments_lexer": "ipython3",
   "version": "3.8.5"
  }
 },
 "nbformat": 4,
 "nbformat_minor": 5
}
