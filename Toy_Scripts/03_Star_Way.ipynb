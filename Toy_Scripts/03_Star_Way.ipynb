{
 "cells": [
  {
   "cell_type": "markdown",
   "id": "yellow-sharp",
   "metadata": {},
   "source": [
    "### Acceleration + deceleration"
   ]
  },
  {
   "cell_type": "code",
   "execution_count": 11,
   "id": "standard-company",
   "metadata": {},
   "outputs": [
    {
     "name": "stdout",
     "output_type": "stream",
     "text": [
      "distance = 384.4 thousands km, acceleration = 50 g\n",
      "half way passed, half_time = 000::00:14:37, v_max = 438.50 km/s / 0.001 SoL                              \n",
      " all way passed,  all_time = 000::00:28:56, distance = 384.40 ths km / 0.003 au / 0.000 ly                               \n"
     ]
    }
   ],
   "source": [
    "import time\n",
    "import timeit\n",
    "\n",
    "# Inputs\n",
    "# acceleration while flight, in G-units (1..100)\n",
    "G = 50\n",
    "# distance to destination in thousands km\n",
    "Dist = 384.4\n",
    "print(f'distance = {Dist} thousands km, acceleration = {G} g')\n",
    "\n",
    "# speed of calculations\n",
    "step, tic = 1, 0.1  # step = time step, tic = time to sleep\n",
    "\n",
    "# transfer inputs to variables\n",
    "g, d_fin = G*10, Dist * 1000000\n",
    "d_half = d_fin / 2\n",
    "\n",
    "\n",
    "# time presentation subroutine\n",
    "def calc_time(t):\n",
    "    Sec = t - 60*(t//60)\n",
    "    Min = int(t/60) - 60*(t//3600)\n",
    "    Hrs = int(t/3600) - 24*(t//(3600*24))\n",
    "    Day = int(t/3600/24)\n",
    "    return Sec, Min, Hrs, Day\n",
    "\n",
    "\n",
    "# prepare values to print\n",
    "def prep_values(velocity, distance):\n",
    "    V = v / 1000             # velocity in km/s\n",
    "    D = d / 1000000          # distance in ths km\n",
    "    AU = D / 150000          # distance in astronomical units\n",
    "    LY = AU / 63241          # distance in light years\n",
    "    return V, D, AU, LY\n",
    "\n",
    "\n",
    "# Technical values setup\n",
    "t, v, d = 0, 0, 0\n",
    "\n",
    "# acceleration loop\n",
    "while d < d_half:            # for distance from start to middle\n",
    "    v = g * t                # current speed in m/s\n",
    "    d = v * t/2              # total distance in m\n",
    "\n",
    "    V, D, AU, LY = prep_values(v, d)    # resize v & d to big values\n",
    "    Sec, Min, Hrs, Day = calc_time(t)   # time in sec-min-hrs-days \n",
    "    \n",
    "    if AU < 1:\n",
    "        print(f'{Day:03}::{Hrs:02}:{Min:02}:{Sec:02}, \\\n",
    "velocity = {V:.{2}f} km/s / {V/300000:.{4}f} SoL, \\\n",
    "distance = {D:.{3}f} ths km / {AU:.{3}f} au ', end='\\r')\n",
    "    else:\n",
    "        print(f'{Day:03}::{Hrs:02}:{Min:02}:{Sec:02}, \\\n",
    "velocity = {V:.{2}f} km/s / {V/300000:.{4}f} SoL, \\\n",
    "distance = {AU:.{3}f} au / {LY:.{4}f} ly         ', end='\\r')\n",
    "        \n",
    "    t += step\n",
    "    time.sleep(tic)\n",
    "\n",
    "# Thus we finished the half of our trip\n",
    "print(f'half way passed, half_time = {Day:03}::{Hrs:02}:{Min:02}:{Sec:02}, \\\n",
    "v_max = {V:.{2}f} km/s / {V/300000:.{3}f} SoL                              ')\n",
    "\n",
    "d = d_half\n",
    "t0, v0, d0 = t, v, d\n",
    "\n",
    "# Let's start second part: deceleration\n",
    "# Reset time\n",
    "t = 0\n",
    "\n",
    "# deceleration loop\n",
    "while d < d_fin:             # for distance from middle to end\n",
    "    v = v0 - g * step        # current speed in m/s\n",
    "    d = d0 + (v0+v)*step/2   # total distance in m\n",
    "    v0, d0 = v, d            # store the previous step values\n",
    "\n",
    "    V, D, AU, LY = prep_values(v, d)       # resize v & d to big values\n",
    "    Sec, Min, Hrs, Day = calc_time(t0+t)   # time in sec-min-hrs-days \n",
    "    \n",
    "    if AU < 1:\n",
    "        print(f'{Day:03}::{Hrs:02}:{Min:02}:{Sec:02}, \\\n",
    "velocity = {V:.{2}f} km/s / {V/300000:.{4}f} SoL, \\\n",
    "distance = {D:.{3}f} ths km / {AU:.{3}f} au ', end='\\r')\n",
    "    else:\n",
    "        print(f'{Day:03}::{Hrs:02}:{Min:02}:{Sec:02}, \\\n",
    "velocity = {V:.{2}f} km/s / {V/300000:.{4}f} SoL, \\\n",
    "distance = {AU:.{3}f} au / {LY:.{4}f} ly', \" \"*10, end='\\r')\n",
    "    \n",
    "    t += step\n",
    "    time.sleep(tic)\n",
    "\n",
    "print(f' all way passed,  all_time = {Day:03}::{Hrs:02}:{Min:02}:{Sec:02}, \\\n",
    "distance = {D:.{2}f} ths km / {AU:.{3}f} au / {LY:.{3}f} ly', \" \"*30)\n",
    "\n",
    "# print(f'v = {v} m/s')  velocity can not be equal to zero at finish line"
   ]
  },
  {
   "cell_type": "markdown",
   "id": "boolean-hello",
   "metadata": {},
   "source": [
    "SPb_Msk: 000::00:09:09  \n",
    "Msk_NYC: 000::00:28:57  \n",
    "NYC_Aug: 000::00:45:54  \n",
    "SPb_KLS: 000::00:23:00\n"
   ]
  },
  {
   "cell_type": "markdown",
   "id": "afc74d31",
   "metadata": {},
   "source": [
    "Earth - Mars: distance = 62_000_000 km | time (G=50) = 6h 11m  \n",
    "Earth - Neptun: distance = 4_500_000_000 km | time (G=50) = 2d 4h 42m"
   ]
  },
  {
   "cell_type": "markdown",
   "id": "wanted-mapping",
   "metadata": {},
   "source": [
    "Destination: Alpha-Centaurus  \n",
    "Distance: 4.4 ly  \n",
    "Time (G = 25) = 299::07:20:01  \n",
    "Time (G = 1) = 1495::17:13:21"
   ]
  },
  {
   "cell_type": "code",
   "execution_count": null,
   "id": "certified-asian",
   "metadata": {},
   "outputs": [],
   "source": []
  }
 ],
 "metadata": {
  "kernelspec": {
   "display_name": "Python 3",
   "language": "python",
   "name": "python3"
  },
  "language_info": {
   "codemirror_mode": {
    "name": "ipython",
    "version": 3
   },
   "file_extension": ".py",
   "mimetype": "text/x-python",
   "name": "python",
   "nbconvert_exporter": "python",
   "pygments_lexer": "ipython3",
   "version": "3.9.2"
  }
 },
 "nbformat": 4,
 "nbformat_minor": 5
}
