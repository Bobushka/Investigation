{
 "cells": [
  {
   "cell_type": "markdown",
   "metadata": {},
   "source": [
    "## 1. Пример с Цельсием и Фаренгейтом  \n",
    "\n",
    "(https://youtu.be/BQg9OZdzLLE)"
   ]
  },
  {
   "cell_type": "code",
   "execution_count": null,
   "metadata": {},
   "outputs": [],
   "source": [
    "import tensorflow as tf\n",
    "import numpy as np\n",
    "import matplotlib.pyplot as plt\n",
    "from tensorflow import keras\n",
    "from tensorflow.keras.layers import Dense"
   ]
  },
  {
   "cell_type": "code",
   "execution_count": 11,
   "metadata": {},
   "outputs": [
    {
     "name": "stdout",
     "output_type": "stream",
     "text": [
      "Обучение завершено\n",
      "predict = [[209.49963]], target = 210.20000000000002, accuracy = [[99.66681]]%\n",
      "[array([[1.8227202]], dtype=float32), array([29.050337], dtype=float32)]\n"
     ]
    },
    {
     "data": {
      "image/png": "[encoded data removed]",
      "text/plain": [
       "<Figure size 432x288 with 1 Axes>"
      ]
     },
     "metadata": {
      "needs_background": "light"
     },
     "output_type": "display_data"
    }
   ],
   "source": [
    "c = np.array([-40, -10, 0, 8, 15, 22, 38])\n",
    "f = np.array([-40, 14, 32, 46, 59, 72, 100])\n",
    "\n",
    "model = keras.Sequential()\n",
    "model.add(Dense(units=1, input_shape=(1,), activation='linear'))\n",
    "model.compile(loss='mean_squared_error', optimizer=keras.optimizers.Adam(0.1))\n",
    "\n",
    "history = model.fit(c, f, epochs=500, verbose=0)\n",
    "print(\"Обучение завершено\")\n",
    "\n",
    "p = model.predict([99])\n",
    "t = 99*1.8+32\n",
    "print(f'predict = {p}, target = {t}, accuracy = {(1-(t-p)/t)*100}%')\n",
    "print(model.get_weights())\n",
    "\n",
    "plt.plot(history.history['loss'])\n",
    "plt.grid(True)\n",
    "plt.show()"
   ]
  },
  {
   "cell_type": "markdown",
   "metadata": {},
   "source": [
    "#### Поиграем с размером выборки и с другими параметрами"
   ]
  },
  {
   "cell_type": "code",
   "execution_count": 8,
   "metadata": {},
   "outputs": [],
   "source": [
    "# увеличим обучающую выборку с 8 до 50 \n",
    "\n",
    "c_100 = np.zeros(100)\n",
    "f_100 = np.zeros(100)\n",
    "\n",
    "for i in range(100):\n",
    "    c_100[i] = 2*i\n",
    "    \n",
    "for i in range(100):\n",
    "    f_100[i] = c_100[i]*1.8 +32"
   ]
  },
  {
   "cell_type": "code",
   "execution_count": 9,
   "metadata": {
    "tags": []
   },
   "outputs": [
    {
     "name": "stdout",
     "output_type": "stream",
     "text": [
      "Обучение завершено\n",
      "predict = [[210.19998]], target = 210.20000000000002, accuracy = [[99.99999]]%\n",
      "[array([[1.8000003]], dtype=float32), array([31.999949], dtype=float32)]\n"
     ]
    },
    {
     "data": {
      "image/png": "[encoded data removed]",
      "text/plain": [
       "<Figure size 432x288 with 1 Axes>"
      ]
     },
     "metadata": {
      "needs_background": "light"
     },
     "output_type": "display_data"
    }
   ],
   "source": [
    "model = keras.Sequential()\n",
    "model.add(Dense(units=1, input_shape=(1,), activation='linear'))\n",
    "model.compile(loss='mean_squared_error', optimizer=keras.optimizers.Adam(0.2))\n",
    "\n",
    "history = model.fit(c_100, f_100, epochs=500, verbose=0)\n",
    "print(\"Обучение завершено\")\n",
    "\n",
    "p = model.predict([99])\n",
    "t = 99*1.8+32\n",
    "print(f'predict = {p}, target = {t}, accuracy = {(1-(t-p)/t)*100}%')\n",
    "print(model.get_weights())\n",
    "\n",
    "plt.plot(history.history['loss'])\n",
    "plt.grid(True)\n",
    "plt.show()"
   ]
  },
  {
   "cell_type": "markdown",
   "metadata": {},
   "source": [
    "## Выводы:  \n",
    "1. увеличение выборки привело к росту точности с 99.70 до 99.89\n",
    "2. увеличения параметра Adam с 0.1 до 0.2 привело к росту точности с 99.89 до 99.99"
   ]
  },
  {
   "cell_type": "code",
   "execution_count": null,
   "metadata": {},
   "outputs": [],
   "source": []
  }
 ],
 "metadata": {
  "kernelspec": {
   "display_name": "Python 3",
   "language": "python",
   "name": "python3"
  },
  "language_info": {
   "codemirror_mode": {
    "name": "ipython",
    "version": 3
   },
   "file_extension": ".py",
   "mimetype": "text/x-python",
   "name": "python",
   "nbconvert_exporter": "python",
   "pygments_lexer": "ipython3",
   "version": "3.8.8"
  }
 },
 "nbformat": 4,
 "nbformat_minor": 4
}
