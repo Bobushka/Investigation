{
 "cells": [
  {
   "cell_type": "markdown",
   "id": "14bacbea",
   "metadata": {},
   "source": [
    "Sources:\n",
    "- [The Quick Python Book by Naomi Ceder](https://codernet.ru/books/python/the_quick_python_book_naomi_ceder/)   \n",
    "- [Python Tutorial for Beginners by Nana](https://www.youtube.com/watch?v=t8pPdKYpowI&ab_channel=TechWorldwithNana)"
   ]
  },
  {
   "cell_type": "markdown",
   "id": "ab87d225",
   "metadata": {},
   "source": [
    "## Типы данных"
   ]
  },
  {
   "cell_type": "markdown",
   "id": "cbd6bf52",
   "metadata": {},
   "source": [
    "### Типы данных. Числа (Numbers)"
   ]
  },
  {
   "cell_type": "markdown",
   "id": "698a6010",
   "metadata": {},
   "source": [
    "- целые числа: 1, –3, 42, 355, 888888888888888, –7777777777 (размер целых чисел ограничивается только объемом доступной памяти);\n",
    "- числа с плавающей точкой: 3,0, 31e12, –6e-4. Можно удвоить точность (команда double?);\n",
    "- комплексные числа: 3 + 2j, –4- 2j, 4,2 + 6,3j;\n",
    "- логические значения: True, False."
   ]
  },
  {
   "cell_type": "code",
   "execution_count": 25,
   "id": "96a13ca5",
   "metadata": {},
   "outputs": [
    {
     "name": "stdout",
     "output_type": "stream",
     "text": [
      "False\n",
      "True\n",
      "4  type: <class 'int'>\n"
     ]
    }
   ],
   "source": [
    "print(0.1+0.1+0.1 == 0.3)\n",
    "print(round(0.1+0.1+0.1, 1) == 0.3)\n",
    "\n",
    "import math  # https://docs.python.org/3/library/math.html\n",
    "print(math.ceil(3.49), \" type:\", type(math.ceil(3.49)))"
   ]
  },
  {
   "cell_type": "markdown",
   "id": "d0f8f917",
   "metadata": {},
   "source": [
    "### Типы данных. Строка (String)"
   ]
  },
  {
   "cell_type": "markdown",
   "id": "33304396",
   "metadata": {},
   "source": [
    "https://docs.python.org/3/library/stdtypes.html#string-methods  \n",
    "https://tproger.ru/articles/python-strings-for-interview-part-1/  \n",
    "https://ps.readthedocs.io/ru/latest/strings.html"
   ]
  },
  {
   "cell_type": "code",
   "execution_count": 3,
   "id": "dfb7c038",
   "metadata": {},
   "outputs": [
    {
     "name": "stdout",
     "output_type": "stream",
     "text": [
      "This is a string\n",
      "<class 'str'>\n"
     ]
    }
   ],
   "source": [
    "my_string = \"This is a string\"\n",
    "print(my_string)\n",
    "print(type(my_string))"
   ]
  },
  {
   "cell_type": "markdown",
   "id": "bf0396df",
   "metadata": {},
   "source": [
    "Строка это класс текстовых данных, заключенных в кавычки (любые, от одинарных до тройных). Строка неизменяема (unmutable). Все операции, изменяющие строку, на самом деле создают новые строки.    \n",
    "\n",
    "Строка относится к типу последовательностей (sequences), поэтому к ней применяются все операции, применимые к последовательностям: \n",
    "https://docs.python.org/3/library/stdtypes.html#typesseq-common\n",
    "\n",
    "Кроме обычных операций к строке можно применять специальные операции: \n",
    "https://docs.python.org/3/library/stdtypes.html#string-methods"
   ]
  },
  {
   "cell_type": "code",
   "execution_count": null,
   "id": "00e9423f",
   "metadata": {},
   "outputs": [],
   "source": []
  },
  {
   "cell_type": "markdown",
   "id": "3ad2f9fe",
   "metadata": {},
   "source": [
    "### Типы данных. Список (List)\n",
    "\n",
    "https://docs.python.org/3/library/stdtypes.html#list"
   ]
  },
  {
   "cell_type": "markdown",
   "id": "996bbf5c",
   "metadata": {},
   "source": [
    "Список - это список чего угодно. Список изменяемый (mutable)."
   ]
  },
  {
   "cell_type": "code",
   "execution_count": 4,
   "id": "23a6ebee",
   "metadata": {},
   "outputs": [
    {
     "name": "stdout",
     "output_type": "stream",
     "text": [
      "['T', 'h', 'i', 's', ' ', 'i', 's', ' ', 'a', ' ', 's', 't', 'r', 'i', 'n', 'g']\n",
      "['This', 'is', 'a', 'string']\n"
     ]
    }
   ],
   "source": [
    "# Как создать список:  \n",
    "# empty list\n",
    "my_list = []\n",
    "# list of letters from string\n",
    "my_list = list(my_string)\n",
    "print(my_list)\n",
    "# list of words from string\n",
    "my_list = my_string.split()\n",
    "print(my_list)"
   ]
  },
  {
   "cell_type": "markdown",
   "id": "948d8766",
   "metadata": {},
   "source": [
    "Какие функции можно применить к списку:\n",
    "- уникальные функции: (len, max и min), некоторые операторы (in, + и *), команда del \n",
    "- методы списков (append, count, extend, index, insert, pop, remove, reverse и sort)"
   ]
  },
  {
   "cell_type": "markdown",
   "id": "ae8bd419",
   "metadata": {},
   "source": [
    "### Типы данных. Множество (Set)\n",
    "\n",
    "https://docs.python.org/3/library/stdtypes.html#set-types-set-frozenset"
   ]
  },
  {
   "cell_type": "markdown",
   "id": "aa635bf5",
   "metadata": {},
   "source": [
    "Множество - это список (list), из которого выброшены повторяющиеся значения. Неупорядочен (случайный порядок). Неизменяемый? Элементы множества неупорядочены: выводятся в случайном порядке "
   ]
  },
  {
   "cell_type": "code",
   "execution_count": 5,
   "id": "daf488e8",
   "metadata": {},
   "outputs": [
    {
     "name": "stdout",
     "output_type": "stream",
     "text": [
      "{'h', 'g', 's', 'a', 'i', 'r', 't', 'n', 'T', ' '}\n"
     ]
    }
   ],
   "source": [
    "my_set = set(list(my_string))\n",
    "print(my_set)"
   ]
  },
  {
   "cell_type": "code",
   "execution_count": 6,
   "id": "2aeeda86",
   "metadata": {},
   "outputs": [
    {
     "name": "stdout",
     "output_type": "stream",
     "text": [
      "h\n",
      "g\n",
      "s\n",
      "a\n",
      "i\n",
      "r\n",
      "t\n",
      "n\n",
      "T\n",
      " \n"
     ]
    }
   ],
   "source": [
    "# К элементу множества нельзя обратиться по его индексу. Но можно получить доступ, например, через цикл:\n",
    "for element in my_set:\n",
    "    print(element)"
   ]
  },
  {
   "cell_type": "code",
   "execution_count": 7,
   "id": "a2075c05",
   "metadata": {},
   "outputs": [
    {
     "name": "stdout",
     "output_type": "stream",
     "text": [
      "{'h', 'g', 's', 'a', 'i', 'r', 't', 'n', ' ', 'Z'}\n"
     ]
    }
   ],
   "source": [
    "# Можно добавлять и удалять эдементы множества:\n",
    "my_set.add('Z')\n",
    "my_set.remove(\"T\")\n",
    "print(my_set)"
   ]
  },
  {
   "cell_type": "markdown",
   "id": "dd58af36",
   "metadata": {},
   "source": [
    "### Типы данных. Словарь (Dictionary)\n",
    "\n",
    "https://docs.python.org/3/tutorial/datastructures.html#dictionaries"
   ]
  },
  {
   "cell_type": "code",
   "execution_count": null,
   "id": "7ee032fc",
   "metadata": {},
   "outputs": [],
   "source": []
  },
  {
   "cell_type": "markdown",
   "id": "d1652170",
   "metadata": {},
   "source": [
    "### Типы данных. Кортежи (Tuples)\n",
    "\n",
    "https://docs.python.org/3/tutorial/datastructures.html#tuples-and-sequences"
   ]
  },
  {
   "cell_type": "markdown",
   "id": "4b666aab",
   "metadata": {},
   "source": [
    "Кортеж - это неизменяемый список. Соответственно, к кортежим применимы только:\n",
    "- Операторы (in, + и *) и встроенные функции (len, max и min)\n",
    "- Только два метода из общиъ методов последовательностей: count и index"
   ]
  },
  {
   "cell_type": "code",
   "execution_count": 36,
   "id": "93f08491",
   "metadata": {},
   "outputs": [
    {
     "name": "stdout",
     "output_type": "stream",
     "text": [
      "(1, 'two', 4.0, ['a', 'b'], (5, 6))\n",
      "('This', 'is', 'a', 'string') <class 'tuple'>\n"
     ]
    }
   ],
   "source": [
    "# Создание кортежа:\n",
    "my_tuple = ()\n",
    "my_tuple = (1,)  # обязательно запятая после 1 - чтобы не спутать с ??\n",
    "my_tuple = (1, \"two\", 4.0, [\"a\", \"b\"], (5, 6))\n",
    "print(my_tuple)\n",
    "\n",
    "my_tuple = tuple(my_list)\n",
    "print(my_tuple, type(my_tuple))"
   ]
  },
  {
   "cell_type": "code",
   "execution_count": null,
   "id": "5d45c1fd",
   "metadata": {},
   "outputs": [],
   "source": []
  }
 ],
 "metadata": {
  "kernelspec": {
   "display_name": "Python 3",
   "language": "python",
   "name": "python3"
  },
  "language_info": {
   "codemirror_mode": {
    "name": "ipython",
    "version": 3
   },
   "file_extension": ".py",
   "mimetype": "text/x-python",
   "name": "python",
   "nbconvert_exporter": "python",
   "pygments_lexer": "ipython3",
   "version": "3.9.2"
  }
 },
 "nbformat": 4,
 "nbformat_minor": 5
}
